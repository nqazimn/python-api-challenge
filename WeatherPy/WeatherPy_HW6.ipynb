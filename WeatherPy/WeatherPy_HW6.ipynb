{
 "cells": [
  {
   "cell_type": "code",
   "execution_count": 1,
   "metadata": {},
   "outputs": [],
   "source": [
    "import os\n",
    "import random\n",
    "import pandas as pd\n",
    "import numpy as np\n",
    "import matplotlib.pyplot as plt\n",
    "from citipy import citipy\n",
    "import requests\n",
    "from api_keys import weather_api_key\n",
    "import json\n",
    "import time\n",
    "\n",
    "# Using pycountry to obtain full names of the countries\n",
    "# source: https://pypi.org/project/pycountry/\n",
    "import pycountry\n",
    "\n",
    "# Adding options to display all of the rows of DataFrame w/o truncation\n",
    "pd.set_option('display.max_rows', None)\n",
    "pd.set_option('display.max_columns', None)\n",
    "\n",
    "# Range of latitudes and longitudes\n",
    "range_of_latitude = (-90, 90)\n",
    "range_of_longitude = (-180, 180)"
   ]
  },
  {
   "cell_type": "code",
   "execution_count": null,
   "metadata": {},
   "outputs": [],
   "source": [
    "# List for holding cities\n",
    "cities = []\n",
    "countries = []\n",
    "\n",
    "# Create a set of random lat and lng combinations\n",
    "random_latitudes = np.random.uniform(low = -90, high = 90, size=1500)\n",
    "random_longitudes = np.random.uniform(low = -180, high = 180, size=1500)\n",
    "random_geographic_locations = zip(random_latitudes, random_longitudes)\n",
    "\n",
    "for a_location in random_geographic_locations:\n",
    "    city = citipy.nearest_city(a_location[0], a_location[1]).city_name\n",
    "    country = citipy.nearest_city(a_location[0], a_location[1]).country_code\n",
    "    \n",
    "    # If city is unique, then append it to city list along with full country name\n",
    "    if city not in cities:\n",
    "        cities.append(city)\n",
    "        try:\n",
    "            countries.append(pycountry.countries.get(alpha_2 = country.upper()).name)\n",
    "        except:\n",
    "            countries.append('N/A')\n",
    "\n",
    "cities_and_countries = zip(cities,countries)\n",
    "\n",
    "print(len(cities))\n",
    "print(len(countries))"
   ]
  },
  {
   "cell_type": "code",
   "execution_count": null,
   "metadata": {},
   "outputs": [],
   "source": [
    "start_time = time.time()\n",
    "print(time.ctime())\n",
    "print('Starting loop')\n",
    "while True:\n",
    "    current_time = time.time()    \n",
    "#     print(time.ctime())\n",
    "    if (current_time - start_time >= 59.0):\n",
    "        break\n",
    "print('Ending loop')        \n",
    "print(time.ctime())    "
   ]
  },
  {
   "cell_type": "code",
   "execution_count": null,
   "metadata": {},
   "outputs": [],
   "source": [
    "base_url = \"http://api.openweathermap.org/data/2.5/weather?\"\n",
    "counter = 0\n",
    "for _ in cities_and_countries:\n",
    "    a_city = _[0]\n",
    "    a_country = _[1]    \n",
    "    \n",
    "    query_url = base_url + '&APPID=' + weather_api_key + '&q=' + a_city\n",
    "\n",
    "s\n",
    "# starttime = time.time()\n",
    "# while True:\n",
    "#   print(time.time())\n",
    "#   time.sleep(60.0 - ((time.time() - starttime) % 60.0))\n",
    "    \n",
    "#     try:\n",
    "# #         weather_response = requests.get(query_url)\n",
    "# #         print(weather_response)\n",
    "# #         print('Record #' + str(counter) + ':' + a_city.title() + ', ' + a_country + ' OBTAINED. CONTINUING ...')\n",
    "#     except:\n",
    "# #         print('Record #' + str(counter) + ':' + a_city.title() + ', ' + a_country + ' NOT FOUND. SKIPPING ...')\n",
    "        \n",
    "#     counter = counter + 1\n",
    "# #     if (counter == 10):\n",
    "# #         break"
   ]
  },
  {
   "cell_type": "code",
   "execution_count": null,
   "metadata": {},
   "outputs": [],
   "source": [
    "print(json.dumps(weather_response, indent = 4, sort_keys = True))\n",
    "weather_response"
   ]
  },
  {
   "cell_type": "code",
   "execution_count": null,
   "metadata": {},
   "outputs": [],
   "source": []
  }
 ],
 "metadata": {
  "kernelspec": {
   "display_name": "Python 3",
   "language": "python",
   "name": "python3"
  },
  "language_info": {
   "codemirror_mode": {
    "name": "ipython",
    "version": 3
   },
   "file_extension": ".py",
   "mimetype": "text/x-python",
   "name": "python",
   "nbconvert_exporter": "python",
   "pygments_lexer": "ipython3",
   "version": "3.6.9"
  }
 },
 "nbformat": 4,
 "nbformat_minor": 4
}
