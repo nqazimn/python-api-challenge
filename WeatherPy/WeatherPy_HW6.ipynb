{
 "cells": [
  {
   "cell_type": "code",
   "execution_count": 129,
   "metadata": {},
   "outputs": [],
   "source": [
    "import os\n",
    "import random\n",
    "import pandas as pd\n",
    "import numpy as np\n",
    "import matplotlib.pyplot as plt\n",
    "from citipy import citipy\n",
    "import requests\n",
    "from api_keys import weather_api_key\n",
    "import json\n",
    "import time\n",
    "import datetime\n",
    "\n",
    "# Using pycountry to obtain full names of the countries\n",
    "# source: https://pypi.org/project/pycountry/\n",
    "import pycountry\n",
    "\n",
    "# Adding options to display all of the rows of DataFrame w/o truncation\n",
    "pd.set_option('display.max_rows', None)\n",
    "pd.set_option('display.max_columns', None)\n",
    "\n",
    "# Range of latitudes and longitudes\n",
    "range_of_latitude = (-90, 90)\n",
    "range_of_longitude = (-180, 180)"
   ]
  },
  {
   "cell_type": "code",
   "execution_count": 153,
   "metadata": {},
   "outputs": [
    {
     "name": "stdout",
     "output_type": "stream",
     "text": [
      "629\n",
      "629\n"
     ]
    }
   ],
   "source": [
    "# List for holding cities\n",
    "cities = []\n",
    "countries = []\n",
    "\n",
    "# Create a set of random lat and lng combinations\n",
    "random_latitudes = np.random.uniform(low = -90, high = 90, size=1500)\n",
    "random_longitudes = np.random.uniform(low = -180, high = 180, size=1500)\n",
    "random_geographic_locations = zip(random_latitudes, random_longitudes)\n",
    "\n",
    "for a_location in random_geographic_locations:\n",
    "    city = citipy.nearest_city(a_location[0], a_location[1]).city_name\n",
    "    country = citipy.nearest_city(a_location[0], a_location[1]).country_code\n",
    "    \n",
    "    # If city is unique, then append it to city list along with full country name\n",
    "    if city not in cities:\n",
    "        cities.append(city)\n",
    "        try:\n",
    "            countries.append(pycountry.countries.get(alpha_2 = country.upper()).name)\n",
    "        except:\n",
    "            countries.append('N/A')\n",
    "\n",
    "cities_and_countries = zip(cities,countries)\n",
    "\n",
    "print(len(cities))\n",
    "print(len(countries))"
   ]
  },
  {
   "cell_type": "code",
   "execution_count": 154,
   "metadata": {},
   "outputs": [
    {
     "name": "stdout",
     "output_type": "stream",
     "text": [
      "Session started at: Wed Jan 22 15:56:58 2020\n",
      "\n",
      "Record# 1/629 : Provideniya, Russian Federation : PROCESSED\n",
      "Record# 2/629 : Ushuaia, Argentina : PROCESSED\n",
      "Record# 3/629 : Lata, Solomon Islands : PROCESSED\n",
      "Record# 4/629 : Noumea, New Caledonia : PROCESSED\n",
      "Record# 5/629 : Georgetown, Saint Helena, Ascension and Tristan da Cunha : PROCESSED\n",
      "Record# 6/629 : Trairi, Brazil : PROCESSED\n",
      "Record# 7/629 : East London, South Africa : PROCESSED\n",
      "Record# 8/629 : Cidreira, Brazil : PROCESSED\n",
      "Record# 9/629 : Porto Novo, Cabo Verde : PROCESSED\n",
      "Record# 10/629 : Tonj, Sudan : PROCESSED\n",
      "Record# 11/629 : Ponta Do Sol, Cabo Verde : PROCESSED\n",
      "Record# 12/629 : Rikitea, French Polynesia : PROCESSED\n",
      "Record# 13/629 : Te Anau, New Zealand : PROCESSED\n",
      "Record# 14/629 : Hamilton, Bermuda : PROCESSED\n",
      "Record# 15/629 : Punta Arenas, Chile : PROCESSED\n",
      "Record# 16/629 : Okoneshnikovo, Russian Federation : PROCESSED\n",
      "Record# 17/629 : Nyurba, Russian Federation : PROCESSED\n",
      "Record# 18/629 : Port Alfred, South Africa : PROCESSED\n",
      "Record# 19/629 : Cape Town, South Africa : PROCESSED\n",
      "Record# 20/629 : Nao-Me-Toque, Brazil : NOT FOUND\n",
      "Record# 21/629 : Tekeli, Kazakhstan : PROCESSED\n",
      "Record# 22/629 : Portland, Australia : PROCESSED\n",
      "Record# 23/629 : Byron Bay, Australia : PROCESSED\n",
      "Record# 24/629 : Parrsboro, Canada : PROCESSED\n",
      "Record# 25/629 : Barrow, United States : PROCESSED\n",
      "Record# 26/629 : Dinsor, Somalia : NOT FOUND\n",
      "Record# 27/629 : Castro, Chile : PROCESSED\n",
      "Record# 28/629 : Taolanaro, Madagascar : NOT FOUND\n",
      "Record# 29/629 : Nikolskoye, Russian Federation : PROCESSED\n",
      "Record# 30/629 : Gornyy, Russian Federation : PROCESSED\n"
     ]
    }
   ],
   "source": [
    "base_url = \"http://api.openweathermap.org/data/2.5/weather?\"\n",
    "\n",
    "requests_per_minute = 0\n",
    "elapsed_time_in_seconds = 0\n",
    "record_number = 0\n",
    "request_counter = 0\n",
    "\n",
    "start_time = time.time()\n",
    "print('Session started at: ' + time.ctime() + '\\n')\n",
    "\n",
    "# setup weather_df to append data\n",
    "weather_df = pd.DataFrame({'City':[],\\\n",
    "                           'Country':[],\\\n",
    "                           'Country Code':[],\\\n",
    "                           'Date':[],\\\n",
    "                           'Latitude':[],\\\n",
    "                           'Longitude':[],\\\n",
    "                           'Max Temp':[],\\\n",
    "                           'Humidity':[],\\\n",
    "                           'Cloudiness':[],\\\n",
    "                           'Wind Speed':[]})\n",
    "\n",
    "for _ in cities_and_countries:       \n",
    "    a_city = _[0]\n",
    "    a_country = _[1]       \n",
    "    \n",
    "    current_time = time.time()\n",
    "    elapsed_time_in_seconds = round(current_time - start_time, 2)\n",
    "    \n",
    "    # Query OpenWeatherMap API and update counters\n",
    "    query_url = base_url + '&APPID=' + weather_api_key + '&q=' + a_city\n",
    "    response = requests.get(query_url)\n",
    "    weather_response = response.json()\n",
    "    \n",
    "    request_counter = request_counter + 1\n",
    "    \n",
    "    record_number = record_number + 1\n",
    "    if response:\n",
    "        print(f'Record# {record_number}/{len(cities)} : {a_city.title()}, {a_country} : PROCESSED')\n",
    "        \n",
    "        try:\n",
    "            response_items_df = pd.DataFrame([[a_city.title(),\\\n",
    "                                a_country,\\\n",
    "                                weather_response['sys']['country'],\\\n",
    "                                str(weather_response['dt']),\\\n",
    "                                weather_response['coord']['lat'],\\\n",
    "                                weather_response['coord']['lon'],\\\n",
    "                                weather_response['main']['temp_max'],\\\n",
    "                                weather_response['main']['humidity'],\\\n",
    "                                weather_response['clouds']['all'],\\\n",
    "                                weather_response['wind']['speed']]], columns=list(weather_df.columns))\n",
    "                        \n",
    "            weather_df = weather_df.append(response_items_df)\n",
    "        except:\n",
    "            pass\n",
    "    else:\n",
    "        print(f'Record# {record_number}/{len(cities)} : {a_city.title()}, {a_country} : NOT FOUND')\n",
    "    \n",
    "    if (elapsed_time_in_seconds <= 59.0 and request_counter >= 59):\n",
    "        print('\\nSession ended at: ' + time.ctime())\n",
    "        print(f'{request_counter} requests made in {elapsed_time_in_seconds} secs')        \n",
    "        print(f'\\nWaiting for next minute to begin...')\n",
    "        time.sleep(60.0 - elapsed_time_in_seconds)\n",
    "        \n",
    "        # Reset start_time and request_counter\n",
    "        start_time = time.time()\n",
    "        request_counter = 0\n",
    "        print('\\nSession continued at: ' + time.ctime())\n",
    "        \n",
    "    if (request_counter == 30):\n",
    "        break"
   ]
  },
  {
   "cell_type": "code",
   "execution_count": 159,
   "metadata": {},
   "outputs": [
    {
     "data": {
      "text/plain": [
       "City            27\n",
       "Country         27\n",
       "Country Code    27\n",
       "Date            27\n",
       "Latitude        27\n",
       "Longitude       27\n",
       "Max Temp        27\n",
       "Humidity        27\n",
       "Cloudiness      27\n",
       "Wind Speed      27\n",
       "dtype: int64"
      ]
     },
     "execution_count": 159,
     "metadata": {},
     "output_type": "execute_result"
    }
   ],
   "source": [
    "weather_df = weather_df.reset_index(drop=True)\n",
    "weather_df.count()"
   ]
  },
  {
   "cell_type": "code",
   "execution_count": null,
   "metadata": {},
   "outputs": [],
   "source": []
  }
 ],
 "metadata": {
  "kernelspec": {
   "display_name": "Python 3",
   "language": "python",
   "name": "python3"
  },
  "language_info": {
   "codemirror_mode": {
    "name": "ipython",
    "version": 3
   },
   "file_extension": ".py",
   "mimetype": "text/x-python",
   "name": "python",
   "nbconvert_exporter": "python",
   "pygments_lexer": "ipython3",
   "version": "3.6.9"
  }
 },
 "nbformat": 4,
 "nbformat_minor": 4
}
